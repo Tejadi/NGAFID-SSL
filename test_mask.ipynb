{
 "cells": [
  {
   "cell_type": "code",
   "execution_count": 1,
   "metadata": {},
   "outputs": [],
   "source": [
    "from train_autoencoder import load_flight_data"
   ]
  },
  {
   "cell_type": "code",
   "execution_count": 2,
   "metadata": {},
   "outputs": [
    {
     "name": "stderr",
     "output_type": "stream",
     "text": [
      "Loading flight data: 100%|██████████| 100/100 [00:02<00:00, 48.10it/s]\n"
     ]
    }
   ],
   "source": [
    "flight_array = load_flight_data(\"preprocessed_data_train\")"
   ]
  },
  {
   "cell_type": "code",
   "execution_count": 3,
   "metadata": {},
   "outputs": [
    {
     "data": {
      "text/plain": [
       "(100, 10000, 44)"
      ]
     },
     "execution_count": 3,
     "metadata": {},
     "output_type": "execute_result"
    }
   ],
   "source": [
    "flight_array.shape"
   ]
  },
  {
   "cell_type": "code",
   "execution_count": 4,
   "metadata": {},
   "outputs": [
    {
     "data": {
      "text/plain": [
       "array([[[ 0.  , 30.13,  0.  , ...,  0.  ,  0.  ,  0.  ],\n",
       "        [ 0.  , 30.13,  0.  , ...,  0.  ,  0.  ,  0.  ],\n",
       "        [ 0.  , 30.13,  0.  , ...,  0.  ,  0.  ,  0.  ],\n",
       "        ...,\n",
       "        [ 0.  , 30.07,  1.64, ...,  3.  , 51.13, 14.  ],\n",
       "        [ 0.  , 30.07,  1.64, ...,  3.  , 51.13, 14.  ],\n",
       "        [ 0.  , 30.07,  1.64, ...,  3.  , 51.13, 14.  ]],\n",
       "\n",
       "       [[ 0.  , 29.93,  0.  , ...,  0.  ,  0.  ,  0.  ],\n",
       "        [ 0.  , 29.93,  0.  , ...,  0.  ,  0.  ,  0.  ],\n",
       "        [ 0.  , 29.93,  0.  , ...,  0.  ,  0.  ,  0.  ],\n",
       "        ...,\n",
       "        [-0.  , 30.04,  1.6 , ...,  1.  , 52.67, 15.  ],\n",
       "        [-0.  , 30.04,  1.6 , ...,  1.  , 52.67, 15.  ],\n",
       "        [-0.  , 30.04,  1.6 , ...,  1.  , 52.67, 15.  ]],\n",
       "\n",
       "       [[ 0.  , 30.15,  2.44, ...,  0.  , 57.24,  0.  ],\n",
       "        [ 0.  , 30.15,  2.44, ...,  0.  , 57.24,  0.  ],\n",
       "        [ 0.  , 30.15,  2.4 , ...,  0.  , 57.42,  0.  ],\n",
       "        ...,\n",
       "        [-0.  , 30.15,  2.15, ...,  3.  , 55.69, 14.  ],\n",
       "        [-0.  , 30.15,  2.15, ...,  3.  , 55.69, 14.  ],\n",
       "        [-0.  , 30.15,  2.15, ...,  3.  , 55.69, 14.  ]],\n",
       "\n",
       "       ...,\n",
       "\n",
       "       [[ 0.  , 30.09,  0.  , ...,  0.  ,  0.  ,  0.  ],\n",
       "        [ 0.  , 30.09,  0.  , ...,  0.  ,  0.  ,  0.  ],\n",
       "        [ 0.  , 30.09,  0.  , ...,  0.  ,  0.  ,  0.  ],\n",
       "        ...,\n",
       "        [ 0.  , 30.08,  1.72, ...,  0.  , 55.33, 17.  ],\n",
       "        [ 0.  , 30.08,  1.72, ...,  0.  , 55.33, 17.  ],\n",
       "        [ 0.  , 30.08,  1.72, ...,  0.  , 55.33, 17.  ]],\n",
       "\n",
       "       [[ 0.  , 29.93,  0.  , ...,  0.  ,  0.  ,  0.  ],\n",
       "        [ 0.  , 29.93,  0.  , ...,  0.  ,  0.  ,  0.  ],\n",
       "        [ 0.  , 29.93,  0.  , ...,  0.  ,  0.  ,  0.  ],\n",
       "        ...,\n",
       "        [ 0.  , 30.07,  1.42, ...,  2.  , 56.01, 15.  ],\n",
       "        [ 0.  , 30.07,  1.42, ...,  2.  , 56.01, 15.  ],\n",
       "        [ 0.  , 30.07,  1.42, ...,  2.  , 56.01, 15.  ]],\n",
       "\n",
       "       [[ 0.  , 30.15,  0.  , ...,  0.  ,  0.  ,  0.  ],\n",
       "        [ 0.  , 30.15,  0.  , ...,  0.  ,  0.  ,  0.  ],\n",
       "        [ 0.  , 30.15,  0.  , ...,  0.  ,  0.  ,  0.  ],\n",
       "        ...,\n",
       "        [-0.  , 30.4 ,  2.34, ...,  3.  , 59.17, 15.  ],\n",
       "        [-0.  , 30.4 ,  2.34, ...,  3.  , 59.17, 15.  ],\n",
       "        [-0.  , 30.4 ,  2.34, ...,  3.  , 59.17, 15.  ]]])"
      ]
     },
     "execution_count": 4,
     "metadata": {},
     "output_type": "execute_result"
    }
   ],
   "source": [
    "flight_array"
   ]
  },
  {
   "cell_type": "code",
   "execution_count": null,
   "metadata": {},
   "outputs": [],
   "source": []
  }
 ],
 "metadata": {
  "kernelspec": {
   "display_name": "ssl",
   "language": "python",
   "name": "python3"
  },
  "language_info": {
   "codemirror_mode": {
    "name": "ipython",
    "version": 3
   },
   "file_extension": ".py",
   "mimetype": "text/x-python",
   "name": "python",
   "nbconvert_exporter": "python",
   "pygments_lexer": "ipython3",
   "version": "3.12.7"
  }
 },
 "nbformat": 4,
 "nbformat_minor": 2
}
